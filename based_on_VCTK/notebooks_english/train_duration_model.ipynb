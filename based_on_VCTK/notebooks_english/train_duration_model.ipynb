{
 "cells": [
  {
   "cell_type": "code",
   "execution_count": 1,
   "metadata": {
    "collapsed": true
   },
   "outputs": [],
   "source": [
    "import sys\n",
    "sys.path.append(\"..\")"
   ]
  },
  {
   "cell_type": "code",
   "execution_count": 2,
   "metadata": {
    "collapsed": true
   },
   "outputs": [],
   "source": [
    "import os\n",
    "from models.duration_model import DurationModel\n",
    "import tensorflow as tf\n",
    "import numpy as np"
   ]
  },
  {
   "cell_type": "markdown",
   "metadata": {},
   "source": [
    "# Define parametes"
   ]
  },
  {
   "cell_type": "code",
   "execution_count": 3,
   "metadata": {
    "collapsed": true
   },
   "outputs": [],
   "source": [
    "train_parameters = {\n",
    "    \"lr\": 0.0001,\n",
    "    \"decay_steps\": 300,\n",
    "    \"decay_rate\": 0.9,\n",
    "    \"dropout_prob\": 0.2\n",
    "}\n",
    "\n",
    "model_parameters = {\n",
    "    \"phonemes_embedding_size\": 76,#16 include 0\n",
    "    \"speaker_embedding_size\": 16,#16\n",
    "    \"num_dense_layers\": 2,\n",
    "    \"dense_layers_units\": 16,\n",
    "    \"num_bidirectional_layers\": 2,\n",
    "    \"num_bidirectional_units\": 16\n",
    "}\n",
    "\n",
    "input_vocab_size = 76#50 yiyangde \n",
    "num_speakers = 10\n",
    "num_buckets =11#10+1\n",
    "\n",
    "num_steps = 2\n",
    "\n",
    "save_energy = 2"
   ]
  },
  {
   "cell_type": "markdown",
   "metadata": {},
   "source": [
    "# Train model"
   ]
  },
  {
   "cell_type": "code",
   "execution_count": 4,
   "metadata": {},
   "outputs": [
    {
     "name": "stdout",
     "output_type": "stream",
     "text": [
      "[[1, 1, 1, 1, 1, 1, 1, 1, 1, 1, 1, 1, 1, 1, 1, 1, 1, 1, 1, 1, 1, 1, 1, 1, 1, 1, 1, 1, 1, 1, 1, 1, 1, 1, 1, 1, 1, 1, 1, 1, 1, 1, 1, 1, 1, 1, 1, 1, 1, 1, 1, 1, 1, 1, 1, 1, 1, 1, 1, 1, 1, 1, 1, 1, 1, 1, 1, 1, 1, 1, 1, 1, 1, 1, 1, 1, 1, 1, 7, 0, 0, 0, 0, 0, 0, 0, 0, 0, 0, 0, 0, 0, 0, 0, 0, 0, 0, 0, 0, 0, 0, 0, 0, 0, 0, 0, 0, 0, 0, 0, 0, 0, 0], [1, 1, 1, 1, 1, 1, 1, 1, 1, 1, 1, 1, 1, 1, 1, 1, 1, 1, 1, 1, 1, 1, 1, 1, 1, 1, 1, 1, 1, 1, 1, 1, 1, 1, 1, 1, 1, 1, 1, 1, 1, 1, 1, 1, 1, 1, 1, 1, 1, 1, 1, 1, 1, 1, 1, 1, 1, 1, 1, 1, 1, 1, 1, 1, 1, 1, 1, 1, 1, 1, 1, 1, 1, 1, 1, 1, 1, 1, 1, 1, 1, 1, 1, 1, 1, 1, 1, 1, 1, 1, 1, 1, 1, 1, 1, 1, 1, 1, 1, 1, 1, 1, 1, 1, 1, 1, 1, 1, 1, 1, 1, 1, 6]]\n",
      "[79, 113]\n",
      "[[2, 3, 2, 1, 1, 1, 1, 1, 1, 1, 1, 1, 1, 1, 1, 1, 1, 1, 1, 1, 1, 1, 1, 1, 1, 1, 1, 1, 1, 1, 1, 1, 1, 1, 1, 1, 1, 1, 1, 1, 1, 1, 1, 1, 1, 1, 1, 1, 1, 1, 1, 1, 1, 2, 2, 1, 1, 1, 1, 1, 1, 1, 1, 1, 1, 1, 1, 1, 1, 1, 1, 1, 1, 1, 1, 1, 1, 10, 10, 0, 0, 0, 0, 0, 0, 0, 0, 0, 0, 0, 0, 0, 0, 0, 0, 0, 0, 0, 0, 0, 0, 0, 0, 0, 0, 0, 0, 0, 0, 0, 0, 0, 0], [10, 10, 1, 1, 3, 3, 1, 1, 1, 1, 1, 1, 1, 1, 1, 1, 1, 1, 1, 1, 1, 1, 2, 2, 1, 1, 1, 1, 1, 1, 3, 2, 1, 1, 1, 1, 1, 1, 1, 1, 1, 1, 1, 1, 1, 4, 4, 2, 2, 1, 1, 1, 1, 1, 1, 1, 1, 1, 1, 1, 1, 1, 1, 1, 1, 1, 1, 1, 1, 1, 2, 2, 1, 1, 1, 1, 1, 1, 1, 1, 1, 1, 1, 1, 1, 1, 1, 1, 1, 1, 1, 1, 1, 1, 1, 1, 1, 1, 1, 1, 1, 1, 1, 1, 1, 1, 1, 1, 1, 1, 1, 1, 1]]\n",
      "total_arg_size 16\n",
      "total_arg_size 32\n",
      "shape_w (32, 32)\n",
      "total_arg_size 16\n",
      "total_arg_size 32\n",
      "shape_w (32, 16)\n",
      "total_arg_size 16\n",
      "total_arg_size 32\n",
      "shape_w (32, 32)\n",
      "total_arg_size 16\n",
      "total_arg_size 32\n",
      "shape_w (32, 16)\n",
      "total_arg_size 32\n",
      "total_arg_size 48\n",
      "shape_w (48, 32)\n",
      "total_arg_size 32\n",
      "total_arg_size 48\n",
      "shape_w (48, 16)\n",
      "total_arg_size 32\n",
      "total_arg_size 48\n",
      "shape_w (48, 32)\n",
      "total_arg_size 32\n",
      "total_arg_size 48\n",
      "shape_w (48, 16)\n"
     ]
    },
    {
     "name": "stderr",
     "output_type": "stream",
     "text": [
      "/root/anaconda2/lib/python2.7/site-packages/tensorflow/python/ops/gradients_impl.py:96: UserWarning: Converting sparse IndexedSlices to a dense Tensor of unknown shape. This may consume a large amount of memory.\n",
      "  \"Converting sparse IndexedSlices to a dense Tensor of unknown shape. \"\n"
     ]
    },
    {
     "name": "stdout",
     "output_type": "stream",
     "text": [
      "total_arg_size 16\n",
      "total_arg_size 32\n",
      "shape_w (32, 32)\n",
      "total_arg_size 16\n",
      "total_arg_size 32\n",
      "shape_w (32, 16)\n",
      "total_arg_size 16\n",
      "total_arg_size 32\n",
      "shape_w (32, 32)\n",
      "total_arg_size 16\n",
      "total_arg_size 32\n",
      "shape_w (32, 16)\n",
      "total_arg_size 32\n",
      "total_arg_size 48\n",
      "shape_w (48, 32)\n",
      "total_arg_size 32\n",
      "total_arg_size 48\n",
      "shape_w (48, 16)\n",
      "total_arg_size 32\n",
      "total_arg_size 48\n",
      "shape_w (48, 32)\n",
      "total_arg_size 32\n",
      "total_arg_size 48\n",
      "shape_w (48, 16)\n",
      "INFO:tensorflow:Restoring parameters from ../weights/train_grapheme_to_phoneme_model_notebook/model3-2\n",
      "(2, 113) [[5 3 5 3 3 3 3 3 3 3 3 3 3 3 3 3 3 3 3 3 3 3 3 3 3 3 3 3 3 3 3 3 3 3 3 3 3\n",
      "  3 3 3 3 3 3 3 3 6 6 6 6 6 6 6 6 6 6 6 6 6 6 6 6 6 6 6 6 6 6 6 6 6 6 6 6 6\n",
      "  6 6 6 6 6 0 0 0 0 0 0 0 0 0 0 0 0 0 0 0 0 0 0 0 0 0 0 0 0 0 0 0 0 0 0 0 0\n",
      "  0 0]\n",
      " [5 3 5 3 3 3 3 3 3 3 3 3 3 3 3 3 3 3 3 3 3 3 3 3 3 3 3 3 3 3 3 3 3 3 3 3 3\n",
      "  3 3 3 3 3 3 3 3 3 3 3 3 3 3 3 3 3 3 3 3 3 3 3 3 3 3 3 3 3 3 3 3 3 3 3 3 3\n",
      "  3 3 3 3 3 6 6 6 6 6 6 6 6 6 6 6 6 6 6 6 6 6 6 6 6 6 6 6 6 6 6 6 6 6 6 6 6\n",
      "  6 8]]\n"
     ]
    }
   ],
   "source": [
    "\n",
    "%store -r yinsu\n",
    "%store -r yinsu_seq_len\n",
    "%store -r duration_buckets\n",
    "%store -r files_len\n",
    "\n",
    "\n",
    "#2,8\n",
    "#[8,6]\n",
    "#2,8\n",
    "print yinsu\n",
    "print yinsu_seq_len\n",
    "print duration_buckets\n",
    "\n",
    "\n",
    "with tf.Session() as sess:\n",
    "    phonemes = tf.placeholder(tf.int32, [None, None])\n",
    "    phonemes_seq_len = tf.placeholder(tf.int32, [None])\n",
    "    speaker_ids = tf.placeholder(tf.int32, [None])\n",
    "    durations = tf.placeholder(tf.int32, [None, None])\n",
    "    \n",
    "    prediction_phonemes = tf.placeholder(tf.int32, [None, None])\n",
    "    prediction_phonemes_seq_len = tf.placeholder(tf.int32, [None])\n",
    "    prediction_speaker_ids = tf.placeholder(tf.int32, [None])\n",
    "    prediction_durations=tf.placeholder(tf.int32,[None,None])\n",
    "    model = DurationModel(\n",
    "        input_vocab_size, num_speakers,\n",
    "        num_buckets, model_parameters\n",
    "    )\n",
    "    \n",
    "    train_op_tf, loss_tf, global_step_tf, summary_tf, logits_tf, transition_params_tf = model.build_train_operations(\n",
    "        phonemes, phonemes_seq_len, speaker_ids, durations, train_parameters\n",
    "    )\n",
    "    \n",
    "    viterbi= model.build_prediction_logits(\n",
    "        prediction_phonemes, prediction_phonemes_seq_len, prediction_speaker_ids,prediction_durations\n",
    "    )\n",
    "\n",
    "    train_writer = tf.summary.FileWriter('../log/train_grapheme_to_phoneme_model_notebook/train', sess.graph)\n",
    "    \n",
    "    tf.global_variables_initializer().run()\n",
    "    coord = tf.train.Coordinator()\n",
    "    threads = tf.train.start_queue_runners(sess=sess, coord=coord)\n",
    "\n",
    "    saver = tf.train.Saver(max_to_keep=3, keep_checkpoint_every_n_hours=3)\n",
    "\n",
    "    train=1\n",
    "    if train==0:\n",
    "        for _ in xrange(num_steps):\n",
    "\n",
    "            out = sess.run([\n",
    "                train_op_tf,\n",
    "                loss_tf,\n",
    "                global_step_tf,\n",
    "                summary_tf,\n",
    "                logits_tf,\n",
    "                transition_params_tf\n",
    "            ], feed_dict={\n",
    "                phonemes: np.array(yinsu),\n",
    "                phonemes_seq_len: np.array(yinsu_seq_len),\n",
    "                speaker_ids: 2 * np.ones((files_len)),\n",
    "                durations: np.array(duration_buckets)\n",
    "#                 phonemes: np.ones((2, 200)),#t(2,30);np.ones((2, 200))\n",
    "#                 phonemes_seq_len: np.ones(2),#t_seq_len,\n",
    "#                 speaker_ids: 2 * np.ones((2)),\n",
    "#                 durations: np.zeros((2, 200))#model2_to_model3\n",
    "            })\n",
    "            _, loss, global_step, summary, logits, transition_params  = out\n",
    "\n",
    "            print \"global_step:\",global_step\n",
    "            print \"logits:\",np.shape(logits),logits\n",
    "            print \"transition_params:\",np.shape(transition_params),transition_params\n",
    "            print \"loss:\",np.shape(loss),loss\n",
    "\n",
    "\n",
    "\n",
    "            train_writer.add_summary(summary, global_step)\n",
    "\n",
    "            # detect gradient explosion\n",
    "            if loss > 1e8 and global_step > 500:\n",
    "                print('loss exploded')\n",
    "                break\n",
    "\n",
    "            if global_step % save_energy == 0 and global_step != 0:\n",
    "\n",
    "                print('saving weights')\n",
    "                if not os.path.exists('../weights/train_grapheme_to_phoneme_model_notebook/'):\n",
    "                    os.makedirs('../weights/train_grapheme_to_phoneme_model_notebook/')\n",
    "                saver.save(sess, '../weights/train_grapheme_to_phoneme_model_notebook/model3', global_step=global_step)\n",
    "\n",
    "        coord.request_stop()\n",
    "        coord.join(threads)\n",
    "    else:\n",
    "        saver.restore(sess, '../weights/train_grapheme_to_phoneme_model_notebook/model3-2')\n",
    "        graph = tf.get_default_graph()\n",
    "        \n",
    "        \n",
    "        viterbi=sess.run(viterbi ,feed_dict={\n",
    "                prediction_phonemes: yinsu,#t(2,30);np.ones((2, 200))\n",
    "                prediction_phonemes_seq_len: yinsu_seq_len,#t_seq_len,\n",
    "                prediction_speaker_ids: 2 * np.ones((2)),\n",
    "                prediction_durations: duration_buckets#model2_to_model3\n",
    "        })\n",
    "        print np.shape(viterbi),viterbi\n",
    "        coord.request_stop()\n",
    "        coord.join(threads)\n",
    "        "
   ]
  },
  {
   "cell_type": "code",
   "execution_count": null,
   "metadata": {
    "collapsed": true
   },
   "outputs": [],
   "source": []
  }
 ],
 "metadata": {
  "kernelspec": {
   "display_name": "Python 2",
   "language": "python",
   "name": "python2"
  },
  "language_info": {
   "codemirror_mode": {
    "name": "ipython",
    "version": 2
   },
   "file_extension": ".py",
   "mimetype": "text/x-python",
   "name": "python",
   "nbconvert_exporter": "python",
   "pygments_lexer": "ipython2",
   "version": "2.7.13"
  }
 },
 "nbformat": 4,
 "nbformat_minor": 2
}
